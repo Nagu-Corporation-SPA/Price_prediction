{
 "cells": [
  {
   "cell_type": "code",
   "execution_count": 1,
   "id": "3ba5ea8a",
   "metadata": {},
   "outputs": [
    {
     "name": "stderr",
     "output_type": "stream",
     "text": [
      "c:\\Users\\sofia\\anaconda3\\envs\\mi_entorno310\\lib\\site-packages\\tqdm\\auto.py:21: TqdmWarning: IProgress not found. Please update jupyter and ipywidgets. See https://ipywidgets.readthedocs.io/en/stable/user_install.html\n",
      "  from .autonotebook import tqdm as notebook_tqdm\n"
     ]
    }
   ],
   "source": [
    "import pandas as pd\n",
    "import numpy as np\n",
    "import matplotlib.pyplot as plt\n",
    "import statsmodels.api as sm\n",
    "from statsmodels.tsa.arima.model import ARIMA\n",
    "from statsmodels.tsa.stattools import adfuller, kpss\n",
    "from statsmodels.graphics.tsaplots import plot_acf, plot_pacf\n",
    "from statsmodels.stats.diagnostic import acorr_ljungbox\n",
    "import matplotlib.pyplot as plt\n",
    "import scipy.stats as st\n",
    "import os\n",
    "import json\n",
    "\n",
    "import optuna\n",
    "from sklearn.metrics import mean_squared_error\n",
    "from pmdarima.arima import auto_arima"
   ]
  },
  {
   "cell_type": "code",
   "execution_count": 6,
   "id": "34fbbb66",
   "metadata": {},
   "outputs": [],
   "source": [
    "import sys\n",
    "sys.path.append('../scr')\n",
    "\n",
    "from utils_clean import filtrar_ub_semanal, imputar_nulos_semanal, estacionarizar_arima, partir_train_test\n",
    "from utils_data import downloadTable\n",
    "from utils_model import buscar_hiperparametros_arima_sarima, buscar_hiperparametros_arima_semanal\n",
    "from utils_metrics import errorMetrics"
   ]
  },
  {
   "cell_type": "markdown",
   "id": "aef03101",
   "metadata": {},
   "source": [
    "# Importar Data"
   ]
  },
  {
   "cell_type": "code",
   "execution_count": 7,
   "id": "7fb77646",
   "metadata": {},
   "outputs": [
    {
     "name": "stdout",
     "output_type": "stream",
     "text": [
      "Folder 'bigqueryDatabases' already exists.\n",
      "Reading bigqueryDatabases\\globalPricesTable.csv from local CSV.\n"
     ]
    }
   ],
   "source": [
    "queryPrices = \"\"\"\n",
    "SELECT * FROM `desarrollo-444913.globalPrices.prices`\n",
    "\"\"\"\n",
    "# Usar forceDownload=True para actualizar la tabla\n",
    "df = downloadTable(queryPrices,\"globalPricesTable\",forceDownload=False)"
   ]
  },
  {
   "cell_type": "code",
   "execution_count": 8,
   "id": "fe502dc4",
   "metadata": {},
   "outputs": [
    {
     "data": {
      "text/html": [
       "<div>\n",
       "<style scoped>\n",
       "    .dataframe tbody tr th:only-of-type {\n",
       "        vertical-align: middle;\n",
       "    }\n",
       "\n",
       "    .dataframe tbody tr th {\n",
       "        vertical-align: top;\n",
       "    }\n",
       "\n",
       "    .dataframe thead th {\n",
       "        text-align: right;\n",
       "    }\n",
       "</style>\n",
       "<table border=\"1\" class=\"dataframe\">\n",
       "  <thead>\n",
       "    <tr style=\"text-align: right;\">\n",
       "      <th></th>\n",
       "      <th>date</th>\n",
       "      <th>price</th>\n",
       "      <th>priceId</th>\n",
       "      <th>priceName</th>\n",
       "      <th>currency</th>\n",
       "      <th>currencyId</th>\n",
       "      <th>priceType</th>\n",
       "      <th>source</th>\n",
       "    </tr>\n",
       "  </thead>\n",
       "  <tbody>\n",
       "    <tr>\n",
       "      <th>0</th>\n",
       "      <td>2022-10-01</td>\n",
       "      <td>14.637188</td>\n",
       "      <td>4</td>\n",
       "      <td>Japan Frozen Atlantic TRIM-E</td>\n",
       "      <td>USD</td>\n",
       "      <td>0</td>\n",
       "      <td>EXPORT</td>\n",
       "      <td>CHILEAN EXPORTS</td>\n",
       "    </tr>\n",
       "    <tr>\n",
       "      <th>1</th>\n",
       "      <td>2023-03-01</td>\n",
       "      <td>12.265160</td>\n",
       "      <td>5</td>\n",
       "      <td>Japan Fresh Atlantic TRIM-A</td>\n",
       "      <td>USD</td>\n",
       "      <td>0</td>\n",
       "      <td>EXPORT</td>\n",
       "      <td>CHILEAN EXPORTS</td>\n",
       "    </tr>\n",
       "    <tr>\n",
       "      <th>2</th>\n",
       "      <td>2024-02-01</td>\n",
       "      <td>5.859417</td>\n",
       "      <td>1</td>\n",
       "      <td>Japan Frozen Coho HG</td>\n",
       "      <td>USD</td>\n",
       "      <td>0</td>\n",
       "      <td>EXPORT</td>\n",
       "      <td>CHILEAN EXPORTS</td>\n",
       "    </tr>\n",
       "    <tr>\n",
       "      <th>3</th>\n",
       "      <td>2012-11-08</td>\n",
       "      <td>6.724091</td>\n",
       "      <td>11</td>\n",
       "      <td>UB Atlantic TRIM-D 3-4 Lb FOB Miami</td>\n",
       "      <td>USD</td>\n",
       "      <td>0</td>\n",
       "      <td>EXPORTS</td>\n",
       "      <td>URNER BARRY</td>\n",
       "    </tr>\n",
       "    <tr>\n",
       "      <th>4</th>\n",
       "      <td>2007-12-26</td>\n",
       "      <td>7.495708</td>\n",
       "      <td>11</td>\n",
       "      <td>UB Atlantic TRIM-D 3-4 Lb FOB Miami</td>\n",
       "      <td>USD</td>\n",
       "      <td>0</td>\n",
       "      <td>EXPORTS</td>\n",
       "      <td>URNER BARRY</td>\n",
       "    </tr>\n",
       "  </tbody>\n",
       "</table>\n",
       "</div>"
      ],
      "text/plain": [
       "         date      price  priceId                            priceName  \\\n",
       "0  2022-10-01  14.637188        4         Japan Frozen Atlantic TRIM-E   \n",
       "1  2023-03-01  12.265160        5          Japan Fresh Atlantic TRIM-A   \n",
       "2  2024-02-01   5.859417        1                 Japan Frozen Coho HG   \n",
       "3  2012-11-08   6.724091       11  UB Atlantic TRIM-D 3-4 Lb FOB Miami   \n",
       "4  2007-12-26   7.495708       11  UB Atlantic TRIM-D 3-4 Lb FOB Miami   \n",
       "\n",
       "  currency  currencyId priceType           source  \n",
       "0      USD           0    EXPORT  CHILEAN EXPORTS  \n",
       "1      USD           0    EXPORT  CHILEAN EXPORTS  \n",
       "2      USD           0    EXPORT  CHILEAN EXPORTS  \n",
       "3      USD           0   EXPORTS      URNER BARRY  \n",
       "4      USD           0   EXPORTS      URNER BARRY  "
      ]
     },
     "execution_count": 8,
     "metadata": {},
     "output_type": "execute_result"
    }
   ],
   "source": [
    "df.head()"
   ]
  },
  {
   "cell_type": "code",
   "execution_count": 9,
   "id": "5c8a535b",
   "metadata": {},
   "outputs": [],
   "source": [
    "#  Crear la serie semanal\n",
    "serie = filtrar_ub_semanal(df)"
   ]
  },
  {
   "cell_type": "code",
   "execution_count": 10,
   "id": "03af9f1b",
   "metadata": {},
   "outputs": [],
   "source": [
    "# 2) Imputar esos NaN con interpolación lineal\n",
    "df_semanal, flags = imputar_nulos_semanal(\n",
    "    serie, metodo=\"interpolate\", devolver_flags=True\n",
    ")"
   ]
  },
  {
   "cell_type": "code",
   "execution_count": 11,
   "id": "8648a368",
   "metadata": {},
   "outputs": [
    {
     "data": {
      "text/plain": [
       "date\n",
       "2007-01-08     9.038942\n",
       "2007-01-15     9.038942\n",
       "2007-01-22     9.204289\n",
       "2007-01-29     9.369635\n",
       "2007-02-05     9.479866\n",
       "                ...    \n",
       "2025-05-12    14.054452\n",
       "2025-05-19    13.393066\n",
       "2025-05-26    13.007258\n",
       "2025-06-02    12.566334\n",
       "2025-06-09    12.235641\n",
       "Freq: W-MON, Name: price, Length: 962, dtype: float64"
      ]
     },
     "execution_count": 11,
     "metadata": {},
     "output_type": "execute_result"
    }
   ],
   "source": [
    "df_semanal"
   ]
  },
  {
   "cell_type": "markdown",
   "id": "131a7fc9",
   "metadata": {},
   "source": [
    "# Visualización"
   ]
  },
  {
   "cell_type": "code",
   "execution_count": 12,
   "id": "37e92cb9",
   "metadata": {},
   "outputs": [
    {
     "data": {
      "image/png": "[encoded data removed]",
      "text/plain": [
       "<Figure size 1000x300 with 1 Axes>"
      ]
     },
     "metadata": {},
     "output_type": "display_data"
    }
   ],
   "source": [
    "plt.figure(figsize=(10,3))\n",
    "plt.plot(df_semanal)\n",
    "plt.title(\"Serie semanal\")\n",
    "plt.show()"
   ]
  },
  {
   "cell_type": "markdown",
   "id": "d0224469",
   "metadata": {},
   "source": [
    "## Estacionariedad"
   ]
  },
  {
   "cell_type": "code",
   "execution_count": 13,
   "id": "ed2c15d8",
   "metadata": {},
   "outputs": [
    {
     "name": "stdout",
     "output_type": "stream",
     "text": [
      "=== Prueba ADF ===\n",
      "H₀: la serie NO es estacionaria (tiene raíz unitaria)\n",
      "\n",
      "Estadístico : -3.0619\n",
      "p-value     : 0.0295\n",
      "Lags usados : 2\n",
      "Valores críticos: {'1%': np.float64(-3.43718721587049), '5%': np.float64(-2.8645585177815187), '10%': np.float64(-2.568377225331392)}\n"
     ]
    }
   ],
   "source": [
    "\n",
    "serie = df_semanal.copy()\n",
    "\n",
    "adf_res = adfuller(serie)\n",
    "\n",
    "adf_stat      = adf_res[0]   # Estadístico ADF\n",
    "adf_p         = adf_res[1]   # p-value\n",
    "adf_lags      = adf_res[2]   # Lags usados\n",
    "adf_n         = adf_res[3]   # Nº observaciones\n",
    "adf_crit_vals = adf_res[4]   # Valores críticos\n",
    "\n",
    "print(\"=== Prueba ADF ===\")\n",
    "print(f\"H₀: la serie NO es estacionaria (tiene raíz unitaria)\\n\")\n",
    "print(f\"Estadístico : {adf_stat:.4f}\")\n",
    "print(f\"p-value     : {adf_p:.4f}\")\n",
    "print(f\"Lags usados : {adf_lags}\")\n",
    "print(\"Valores críticos:\", adf_crit_vals)\n",
    "\n",
    "#a un 5 % de significancia, la serie no presenta raíz unitaria y se puede tratar como estacionaria"
   ]
  },
  {
   "cell_type": "code",
   "execution_count": 14,
   "id": "b1226453",
   "metadata": {},
   "outputs": [
    {
     "name": "stdout",
     "output_type": "stream",
     "text": [
      "\n",
      "=== Prueba KPSS ===\n",
      "Estadístico : 2.2131\n",
      "p-value     : 0.0100\n",
      "Lags usados : 19\n",
      "Valores críticos: {'10%': 0.347, '5%': 0.463, '2.5%': 0.574, '1%': 0.739}\n",
      "KPSS indica: NO estacionaria.\n"
     ]
    }
   ],
   "source": [
    "# --- . Prueba KPSS ---\n",
    "kpss_stat, kpss_p, kpss_lags, kpss_crit = kpss(serie, nlags=\"auto\")\n",
    "print(\"\\n=== Prueba KPSS ===\")\n",
    "print(f\"Estadístico : {kpss_stat:.4f}\")\n",
    "print(f\"p-value     : {kpss_p:.4f}\")\n",
    "print(f\"Lags usados : {kpss_lags}\")\n",
    "print(\"Valores críticos:\", kpss_crit)\n",
    "\n",
    "\n",
    "\n",
    "if kpss_p > 0.05:\n",
    "    print(\"KPSS indica: estacionaria.\")\n",
    "else:\n",
    "    print(\"KPSS indica: NO estacionaria.\")"
   ]
  },
  {
   "cell_type": "code",
   "execution_count": 15,
   "id": "149a382b",
   "metadata": {},
   "outputs": [
    {
     "name": "stdout",
     "output_type": "stream",
     "text": [
      "Serie estacionaria con d = 1\n"
     ]
    }
   ],
   "source": [
    "# al tener los datos en mensual se había suavizado el ruido por eso es no estacionaria semanalmente\n",
    "# Estacionarizamos\n",
    "serie_estacionaria, d_optimo = estacionarizar_arima(df_semanal)\n"
   ]
  },
  {
   "cell_type": "markdown",
   "id": "c21fd5ef",
   "metadata": {},
   "source": [
    "## ACF y PACF"
   ]
  },
  {
   "cell_type": "code",
   "execution_count": 16,
   "id": "f1c8730f",
   "metadata": {},
   "outputs": [
    {
     "data": {
      "image/png": "[encoded data removed]",
      "text/plain": [
       "<Figure size 1400x400 with 2 Axes>"
      ]
     },
     "metadata": {},
     "output_type": "display_data"
    }
   ],
   "source": [
    "# usaremos la serie_estacionaria\n",
    "serie_plot = serie_estacionaria\n",
    "\n",
    "fig, axes = plt.subplots(1, 2, figsize=(14, 4))\n",
    "\n",
    "# ACF (para q)\n",
    "plot_acf(serie_plot, lags=40, ax=axes[0])\n",
    "axes[0].set_title(\"ACF - Autocorrelación\")\n",
    "axes[0].set_xlabel(\"Rezagos\")\n",
    "axes[0].set_ylabel(\"Correlación\")\n",
    "\n",
    "# PACF (para p)\n",
    "plot_pacf(serie_plot, lags=40, ax=axes[1], method=\"ywm\")\n",
    "axes[1].set_title(\"PACF - Autocorrelación parcial\")\n",
    "axes[1].set_xlabel(\"Rezagos\")\n",
    "axes[1].set_ylabel(\"Correlación parcial\")\n",
    "\n",
    "plt.tight_layout()\n",
    "plt.show()\n"
   ]
  },
  {
   "cell_type": "markdown",
   "id": "11dc7e96",
   "metadata": {},
   "source": [
    "# Modelo"
   ]
  },
  {
   "cell_type": "code",
   "execution_count": 17,
   "id": "849db907",
   "metadata": {},
   "outputs": [],
   "source": [
    "# Vamos a usar hasta 2023 y testear en 2024\n",
    "df_semanal = df_semanal.sort_index()\n",
    "train = df_semanal.loc[:'2023-12-01']   # Ajusta el string según tu índice\n",
    "test = df_semanal.loc['2024-01-01':'2024-12-01']"
   ]
  },
  {
   "cell_type": "code",
   "execution_count": 18,
   "id": "7e1e2d75",
   "metadata": {},
   "outputs": [
    {
     "name": "stdout",
     "output_type": "stream",
     "text": [
      "Performing stepwise search to minimize aic\n",
      " ARIMA(0,1,0)(0,0,0)[12] intercept   : AIC=422.187, Time=0.31 sec\n",
      " ARIMA(1,1,0)(1,0,0)[12] intercept   : AIC=39.826, Time=0.66 sec\n",
      " ARIMA(0,1,1)(0,0,1)[12] intercept   : AIC=2.603, Time=1.00 sec\n",
      " ARIMA(0,1,0)(0,0,0)[12]             : AIC=420.258, Time=0.16 sec\n",
      " ARIMA(0,1,1)(0,0,0)[12] intercept   : AIC=0.661, Time=0.28 sec\n",
      " ARIMA(0,1,1)(1,0,0)[12] intercept   : AIC=2.607, Time=0.78 sec\n",
      " ARIMA(0,1,1)(1,0,1)[12] intercept   : AIC=2.327, Time=2.51 sec\n",
      " ARIMA(1,1,1)(0,0,0)[12] intercept   : AIC=-53.808, Time=0.34 sec\n",
      " ARIMA(1,1,1)(1,0,0)[12] intercept   : AIC=-51.954, Time=0.85 sec\n",
      " ARIMA(1,1,1)(0,0,1)[12] intercept   : AIC=-51.964, Time=0.89 sec\n",
      " ARIMA(1,1,1)(1,0,1)[12] intercept   : AIC=-51.890, Time=2.43 sec\n",
      " ARIMA(1,1,0)(0,0,0)[12] intercept   : AIC=38.013, Time=0.19 sec\n",
      " ARIMA(2,1,1)(0,0,0)[12] intercept   : AIC=-76.828, Time=0.35 sec\n",
      " ARIMA(2,1,1)(1,0,0)[12] intercept   : AIC=-75.053, Time=1.40 sec\n",
      " ARIMA(2,1,1)(0,0,1)[12] intercept   : AIC=-75.072, Time=0.91 sec\n",
      " ARIMA(2,1,1)(1,0,1)[12] intercept   : AIC=-74.782, Time=3.10 sec\n",
      " ARIMA(2,1,0)(0,0,0)[12] intercept   : AIC=-78.695, Time=0.28 sec\n",
      " ARIMA(2,1,0)(1,0,0)[12] intercept   : AIC=-76.918, Time=0.65 sec\n",
      " ARIMA(2,1,0)(0,0,1)[12] intercept   : AIC=-76.937, Time=0.61 sec\n",
      " ARIMA(2,1,0)(1,0,1)[12] intercept   : AIC=-76.620, Time=1.98 sec\n",
      " ARIMA(3,1,0)(0,0,0)[12] intercept   : AIC=-76.817, Time=0.32 sec\n",
      " ARIMA(3,1,1)(0,0,0)[12] intercept   : AIC=-74.700, Time=0.34 sec\n",
      " ARIMA(2,1,0)(0,0,0)[12]             : AIC=-80.663, Time=0.16 sec\n",
      " ARIMA(2,1,0)(1,0,0)[12]             : AIC=-78.884, Time=0.30 sec\n",
      " ARIMA(2,1,0)(0,0,1)[12]             : AIC=-78.903, Time=0.27 sec\n",
      " ARIMA(2,1,0)(1,0,1)[12]             : AIC=-78.566, Time=0.73 sec\n",
      " ARIMA(1,1,0)(0,0,0)[12]             : AIC=36.024, Time=0.10 sec\n",
      " ARIMA(3,1,0)(0,0,0)[12]             : AIC=-78.783, Time=0.14 sec\n",
      " ARIMA(2,1,1)(0,0,0)[12]             : AIC=-78.794, Time=0.18 sec\n",
      " ARIMA(1,1,1)(0,0,0)[12]             : AIC=-55.789, Time=0.14 sec\n",
      " ARIMA(3,1,1)(0,0,0)[12]             : AIC=-76.667, Time=0.17 sec\n",
      "\n",
      "Best model:  ARIMA(2,1,0)(0,0,0)[12]          \n",
      "Total fit time: 22.584 seconds\n",
      "                               SARIMAX Results                                \n",
      "==============================================================================\n",
      "Dep. Variable:                      y   No. Observations:                  882\n",
      "Model:               SARIMAX(2, 1, 0)   Log Likelihood                  43.331\n",
      "Date:                Wed, 11 Jun 2025   AIC                            -80.663\n",
      "Time:                        23:25:49   BIC                            -66.319\n",
      "Sample:                    01-08-2007   HQIC                           -75.178\n",
      "                         - 11-27-2023                                         \n",
      "Covariance Type:                  opg                                         \n",
      "==============================================================================\n",
      "                 coef    std err          z      P>|z|      [0.025      0.975]\n",
      "------------------------------------------------------------------------------\n",
      "ar.L1          0.8072      0.014     56.181      0.000       0.779       0.835\n",
      "ar.L2         -0.3550      0.022    -16.280      0.000      -0.398      -0.312\n",
      "sigma2         0.0530      0.001     44.936      0.000       0.051       0.055\n",
      "===================================================================================\n",
      "Ljung-Box (L1) (Q):                   0.01   Jarque-Bera (JB):              2940.13\n",
      "Prob(Q):                              0.92   Prob(JB):                         0.00\n",
      "Heteroskedasticity (H):               2.37   Skew:                             0.65\n",
      "Prob(H) (two-sided):                  0.00   Kurtosis:                        11.85\n",
      "===================================================================================\n",
      "\n",
      "Warnings:\n",
      "[1] Covariance matrix calculated using the outer product of gradients (complex-step).\n",
      "Mejores (p, d, q): (2, 1, 0)\n",
      "Mejores (P, D, Q, m): (0, 0, 0, 12)\n"
     ]
    }
   ],
   "source": [
    "# Mejores hiperparametros\n",
    "modelo, order, seasonal_order, resumen = buscar_hiperparametros_arima_sarima(train, m=12, seasonal=True)\n",
    "print(resumen)\n",
    "print(\"Mejores (p, d, q):\", order)\n",
    "print(\"Mejores (P, D, Q, m):\", seasonal_order)"
   ]
  },
  {
   "cell_type": "code",
   "execution_count": 20,
   "id": "6d5d0279",
   "metadata": {},
   "outputs": [
    {
     "name": "stdout",
     "output_type": "stream",
     "text": [
      "Performing stepwise search to minimize aic\n",
      " ARIMA(0,1,0)(0,0,0)[0] intercept   : AIC=422.187, Time=0.21 sec\n",
      " ARIMA(1,1,0)(0,0,0)[0] intercept   : AIC=38.013, Time=0.22 sec\n",
      " ARIMA(0,1,1)(0,0,0)[0] intercept   : AIC=0.661, Time=0.26 sec\n",
      " ARIMA(0,1,0)(0,0,0)[0]             : AIC=420.258, Time=0.14 sec\n",
      " ARIMA(1,1,1)(0,0,0)[0] intercept   : AIC=-53.808, Time=0.35 sec\n",
      " ARIMA(2,1,1)(0,0,0)[0] intercept   : AIC=-76.828, Time=0.46 sec\n",
      " ARIMA(2,1,0)(0,0,0)[0] intercept   : AIC=-78.695, Time=0.33 sec\n",
      " ARIMA(3,1,0)(0,0,0)[0] intercept   : AIC=-76.817, Time=0.27 sec\n",
      " ARIMA(3,1,1)(0,0,0)[0] intercept   : AIC=-74.700, Time=0.30 sec\n",
      " ARIMA(2,1,0)(0,0,0)[0]             : AIC=-80.663, Time=0.13 sec\n",
      " ARIMA(1,1,0)(0,0,0)[0]             : AIC=36.024, Time=0.10 sec\n",
      " ARIMA(3,1,0)(0,0,0)[0]             : AIC=-78.783, Time=0.14 sec\n",
      " ARIMA(2,1,1)(0,0,0)[0]             : AIC=-78.794, Time=0.21 sec\n",
      " ARIMA(1,1,1)(0,0,0)[0]             : AIC=-55.789, Time=0.16 sec\n",
      " ARIMA(3,1,1)(0,0,0)[0]             : AIC=-76.667, Time=0.16 sec\n",
      "\n",
      "Best model:  ARIMA(2,1,0)(0,0,0)[0]          \n",
      "Total fit time: 3.451 seconds\n",
      "                               SARIMAX Results                                \n",
      "==============================================================================\n",
      "Dep. Variable:                      y   No. Observations:                  882\n",
      "Model:               SARIMAX(2, 1, 0)   Log Likelihood                  43.331\n",
      "Date:                Wed, 11 Jun 2025   AIC                            -80.663\n",
      "Time:                        23:26:07   BIC                            -66.319\n",
      "Sample:                    01-08-2007   HQIC                           -75.178\n",
      "                         - 11-27-2023                                         \n",
      "Covariance Type:                  opg                                         \n",
      "==============================================================================\n",
      "                 coef    std err          z      P>|z|      [0.025      0.975]\n",
      "------------------------------------------------------------------------------\n",
      "ar.L1          0.8072      0.014     56.181      0.000       0.779       0.835\n",
      "ar.L2         -0.3550      0.022    -16.280      0.000      -0.398      -0.312\n",
      "sigma2         0.0530      0.001     44.936      0.000       0.051       0.055\n",
      "===================================================================================\n",
      "Ljung-Box (L1) (Q):                   0.01   Jarque-Bera (JB):              2940.13\n",
      "Prob(Q):                              0.92   Prob(JB):                         0.00\n",
      "Heteroskedasticity (H):               2.37   Skew:                             0.65\n",
      "Prob(H) (two-sided):                  0.00   Kurtosis:                        11.85\n",
      "===================================================================================\n",
      "\n",
      "Warnings:\n",
      "[1] Covariance matrix calculated using the outer product of gradients (complex-step).\n",
      "Mejores (p, d, q): (2, 1, 0)\n"
     ]
    }
   ],
   "source": [
    "\n",
    "# Buscar el mejor modelo ARIMA con AIC\n",
    "modelo, order, resumen = buscar_hiperparametros_arima_semanal(\n",
    "    serie=train,\n",
    "    max_p=3, max_d=2, max_q=3,\n",
    "    criterio='aic',\n",
    "    trace=True\n",
    ")\n",
    "\n",
    "print(resumen)          \n",
    "print(\"Mejores (p, d, q):\", order)\n"
   ]
  },
  {
   "cell_type": "code",
   "execution_count": 22,
   "id": "0d1a4f49",
   "metadata": {},
   "outputs": [
    {
     "data": {
      "text/plain": [
       "(2, 1, 0)"
      ]
     },
     "execution_count": 22,
     "metadata": {},
     "output_type": "execute_result"
    }
   ],
   "source": [
    "order"
   ]
  },
  {
   "cell_type": "code",
   "execution_count": null,
   "id": "cb099fd6",
   "metadata": {},
   "outputs": [],
   "source": [
    "# ROLLING PREDICTIONS\n",
    "\n",
    "\n",
    "# --- CONFIGURA TUS PARÁMETROS MANUALMENTE ---\n",
    "order = (1, 1, 2)  # Reemplaza por tus valores encontrados\n",
    "seasonal_order = (1, 0, 1, 52)  # Estacionalidad semanal (m=52)\n",
    "horizonte = 1  # Predicción de 1 paso cada vez\n",
    "\n",
    "# --- PREPARA LAS SERIES ---\n",
    "serie_rolling = train.copy()\n",
    "predicciones = []\n",
    "fechas_pred = pd.date_range('2024-01-01', '2024-12-30', freq='W-MON')  # Fechas lunes de cada semana\n",
    "\n",
    "# --- ROLLING PREDICTION ---\n",
    "for fecha in fechas_pred:\n",
    "    modelo = ARIMA(serie_rolling, order=order, seasonal_order=seasonal_order)\n",
    "    fitted = modelo.fit()\n",
    "    pred = fitted.forecast(steps=1)[0]\n",
    "    predicciones.append(pred)\n",
    "\n",
    "    if fecha in df_semanal.index:\n",
    "        valor_a_agregar = df_semanal.loc[fecha]\n",
    "    else:\n",
    "        valor_a_agregar = pred\n",
    "\n",
    "    serie_rolling = pd.concat([serie_rolling, pd.Series([valor_a_agregar], index=[fecha])])\n",
    "\n",
    "# --- GUARDAR LOG ---\n",
    "date = pd.Timestamp.now().strftime('%Y-%m-%d_%H-%M-%S')\n",
    "dir_checkpoint = f\"\"\"results/ARIMA_{order[0]}_{order[1]}_{order[2]}_{seasonal_order[0]}_{seasonal_order[1]}_{seasonal_order[2]}_{seasonal_order[3]}_{date}/\"\"\"\n",
    "\n",
    "if not os.path.exists(dir_checkpoint):\n",
    "    os.makedirs(dir_checkpoint)\n",
    "\n",
    "logDict = {\n",
    "    \"p\": order[0],\n",
    "    \"d\": order[1],\n",
    "    \"q\": order[2],\n",
    "    \"P\": seasonal_order[0],\n",
    "    \"D\": seasonal_order[1],\n",
    "    \"Q\": seasonal_order[2],\n",
    "    \"M\": seasonal_order[3],\n",
    "    \"Horizonte\": horizonte,\n",
    "    \"Rolling\": \"Semanal 2024\"\n",
    "}\n",
    "\n",
    "with open(dir_checkpoint + 'log.json', 'w') as f:\n",
    "    json.dump(logDict, f, indent=4)\n",
    "\n",
    "# --- OPCIONAL: GUARDAR PREDICCIONES ---\n",
    "pred_df = pd.DataFrame({\n",
    "    'fecha': fechas_pred,\n",
    "    'predicho': predicciones\n",
    "})\n",
    "pred_df.to_csv(dir_checkpoint + 'predicciones.csv', index=False)\n"
   ]
  },
  {
   "cell_type": "code",
   "execution_count": null,
   "id": "46a1d421",
   "metadata": {},
   "outputs": [],
   "source": []
  },
  {
   "cell_type": "code",
   "execution_count": null,
   "id": "bd510870",
   "metadata": {},
   "outputs": [],
   "source": []
  },
  {
   "cell_type": "markdown",
   "id": "a58aa0ce",
   "metadata": {},
   "source": [
    "# Métricas"
   ]
  },
  {
   "cell_type": "markdown",
   "id": "99798f47",
   "metadata": {},
   "source": []
  }
 ],
 "metadata": {
  "kernelspec": {
   "display_name": "mi_entorno310",
   "language": "python",
   "name": "python3"
  },
  "language_info": {
   "codemirror_mode": {
    "name": "ipython",
    "version": 3
   },
   "file_extension": ".py",
   "mimetype": "text/x-python",
   "name": "python",
   "nbconvert_exporter": "python",
   "pygments_lexer": "ipython3",
   "version": "3.10.16"
  }
 },
 "nbformat": 4,
 "nbformat_minor": 5
}
