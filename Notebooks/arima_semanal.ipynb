{
 "cells": [
  {
   "cell_type": "code",
   "execution_count": 1,
   "id": "3ba5ea8a",
   "metadata": {},
   "outputs": [
    {
     "name": "stderr",
     "output_type": "stream",
     "text": [
      "c:\\Users\\sofia\\anaconda3\\envs\\mi_entorno310\\lib\\site-packages\\tqdm\\auto.py:21: TqdmWarning: IProgress not found. Please update jupyter and ipywidgets. See https://ipywidgets.readthedocs.io/en/stable/user_install.html\n",
      "  from .autonotebook import tqdm as notebook_tqdm\n"
     ]
    }
   ],
   "source": [
    "import pandas as pd\n",
    "import numpy as np\n",
    "import matplotlib.pyplot as plt\n",
    "import statsmodels.api as sm\n",
    "from statsmodels.tsa.arima.model import ARIMA\n",
    "from statsmodels.tsa.stattools import adfuller\n",
    "from statsmodels.graphics.tsaplots import plot_acf, plot_pacf\n",
    "\n",
    "import optuna\n",
    "from sklearn.metrics import mean_squared_error\n",
    "from pmdarima.arima import auto_arima"
   ]
  },
  {
   "cell_type": "code",
   "execution_count": 2,
   "id": "34fbbb66",
   "metadata": {},
   "outputs": [],
   "source": [
    "import sys\n",
    "sys.path.append('../scr')\n",
    "\n",
    "from utils_clean import filtrar_ub_semanal, partir_train_test\n",
    "from utils_data import downloadTable\n",
    "from utils_model import buscar_hiperparametros_arima_sarima\n",
    "from utils_metrics import errorMetrics"
   ]
  },
  {
   "cell_type": "code",
   "execution_count": 3,
   "id": "7fb77646",
   "metadata": {},
   "outputs": [
    {
     "data": {
      "text/html": [
       "<div>\n",
       "<style scoped>\n",
       "    .dataframe tbody tr th:only-of-type {\n",
       "        vertical-align: middle;\n",
       "    }\n",
       "\n",
       "    .dataframe tbody tr th {\n",
       "        vertical-align: top;\n",
       "    }\n",
       "\n",
       "    .dataframe thead th {\n",
       "        text-align: right;\n",
       "    }\n",
       "</style>\n",
       "<table border=\"1\" class=\"dataframe\">\n",
       "  <thead>\n",
       "    <tr style=\"text-align: right;\">\n",
       "      <th></th>\n",
       "      <th>date</th>\n",
       "      <th>price</th>\n",
       "      <th>priceId</th>\n",
       "      <th>priceName</th>\n",
       "      <th>currency</th>\n",
       "      <th>currencyId</th>\n",
       "      <th>priceType</th>\n",
       "      <th>source</th>\n",
       "    </tr>\n",
       "  </thead>\n",
       "  <tbody>\n",
       "    <tr>\n",
       "      <th>0</th>\n",
       "      <td>2025-05-27</td>\n",
       "      <td>12.676565</td>\n",
       "      <td>14</td>\n",
       "      <td>UB Canada WC Whole FOB Miami</td>\n",
       "      <td>USD</td>\n",
       "      <td>0</td>\n",
       "      <td>EXPORTS</td>\n",
       "      <td>URNER BARRY</td>\n",
       "    </tr>\n",
       "    <tr>\n",
       "      <th>1</th>\n",
       "      <td>2022-10-01</td>\n",
       "      <td>14.637188</td>\n",
       "      <td>4</td>\n",
       "      <td>Japan Frozen Atlantic TRIM-E</td>\n",
       "      <td>USD</td>\n",
       "      <td>0</td>\n",
       "      <td>EXPORT</td>\n",
       "      <td>CHILEAN EXPORTS</td>\n",
       "    </tr>\n",
       "    <tr>\n",
       "      <th>2</th>\n",
       "      <td>2023-03-01</td>\n",
       "      <td>12.265160</td>\n",
       "      <td>5</td>\n",
       "      <td>Japan Fresh Atlantic TRIM-A</td>\n",
       "      <td>USD</td>\n",
       "      <td>0</td>\n",
       "      <td>EXPORT</td>\n",
       "      <td>CHILEAN EXPORTS</td>\n",
       "    </tr>\n",
       "    <tr>\n",
       "      <th>3</th>\n",
       "      <td>2024-02-01</td>\n",
       "      <td>5.859417</td>\n",
       "      <td>1</td>\n",
       "      <td>Japan Frozen Coho HG</td>\n",
       "      <td>USD</td>\n",
       "      <td>0</td>\n",
       "      <td>EXPORT</td>\n",
       "      <td>CHILEAN EXPORTS</td>\n",
       "    </tr>\n",
       "    <tr>\n",
       "      <th>4</th>\n",
       "      <td>2012-11-08</td>\n",
       "      <td>6.724091</td>\n",
       "      <td>11</td>\n",
       "      <td>UB Atlantic TRIM-D 3-4 Lb FOB Miami</td>\n",
       "      <td>USD</td>\n",
       "      <td>0</td>\n",
       "      <td>EXPORTS</td>\n",
       "      <td>URNER BARRY</td>\n",
       "    </tr>\n",
       "  </tbody>\n",
       "</table>\n",
       "</div>"
      ],
      "text/plain": [
       "         date      price  priceId                            priceName  \\\n",
       "0  2025-05-27  12.676565       14         UB Canada WC Whole FOB Miami   \n",
       "1  2022-10-01  14.637188        4         Japan Frozen Atlantic TRIM-E   \n",
       "2  2023-03-01  12.265160        5          Japan Fresh Atlantic TRIM-A   \n",
       "3  2024-02-01   5.859417        1                 Japan Frozen Coho HG   \n",
       "4  2012-11-08   6.724091       11  UB Atlantic TRIM-D 3-4 Lb FOB Miami   \n",
       "\n",
       "  currency  currencyId priceType           source  \n",
       "0      USD           0   EXPORTS      URNER BARRY  \n",
       "1      USD           0    EXPORT  CHILEAN EXPORTS  \n",
       "2      USD           0    EXPORT  CHILEAN EXPORTS  \n",
       "3      USD           0    EXPORT  CHILEAN EXPORTS  \n",
       "4      USD           0   EXPORTS      URNER BARRY  "
      ]
     },
     "execution_count": 3,
     "metadata": {},
     "output_type": "execute_result"
    }
   ],
   "source": [
    "df = pd.read_csv(\"W:/repo/Price_prediction/bigqueryDatabases/prices.csv\")\n",
    "df.head()"
   ]
  },
  {
   "cell_type": "code",
   "execution_count": 4,
   "id": "ea7a41e4",
   "metadata": {},
   "outputs": [],
   "source": [
    "df = filtrar_ub_semanal(df)"
   ]
  },
  {
   "cell_type": "code",
   "execution_count": 5,
   "id": "bb0ef164",
   "metadata": {},
   "outputs": [
    {
     "data": {
      "text/plain": [
       "2007-01-01     9.038942\n",
       "2007-01-08     9.038942\n",
       "2007-01-15     9.204289\n",
       "2007-01-22     9.369635\n",
       "2007-01-29     9.479866\n",
       "                ...    \n",
       "2025-04-28    14.605607\n",
       "2025-05-05    14.054452\n",
       "2025-05-12    13.393066\n",
       "2025-05-19    13.007258\n",
       "2025-05-26    12.676565\n",
       "Name: price, Length: 961, dtype: float64"
      ]
     },
     "execution_count": 5,
     "metadata": {},
     "output_type": "execute_result"
    }
   ],
   "source": [
    "df"
   ]
  },
  {
   "cell_type": "code",
   "execution_count": null,
   "id": "d53379c6",
   "metadata": {},
   "outputs": [],
   "source": []
  }
 ],
 "metadata": {
  "kernelspec": {
   "display_name": "mi_entorno310",
   "language": "python",
   "name": "python3"
  },
  "language_info": {
   "codemirror_mode": {
    "name": "ipython",
    "version": 3
   },
   "file_extension": ".py",
   "mimetype": "text/x-python",
   "name": "python",
   "nbconvert_exporter": "python",
   "pygments_lexer": "ipython3",
   "version": "3.10.16"
  }
 },
 "nbformat": 4,
 "nbformat_minor": 5
}
