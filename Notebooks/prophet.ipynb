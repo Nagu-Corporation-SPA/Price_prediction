{
 "cells": [
  {
   "cell_type": "code",
   "execution_count": 1,
   "id": "c697a749",
   "metadata": {},
   "outputs": [
    {
     "name": "stderr",
     "output_type": "stream",
     "text": [
      "c:\\Users\\AlejandroLuzanto\\.conda\\envs\\prophet\\Lib\\site-packages\\tqdm\\auto.py:21: TqdmWarning: IProgress not found. Please update jupyter and ipywidgets. See https://ipywidgets.readthedocs.io/en/stable/user_install.html\n",
      "  from .autonotebook import tqdm as notebook_tqdm\n"
     ]
    }
   ],
   "source": [
    "import pandas as pd\n",
    "import numpy as np\n",
    "import sys\n",
    "from prophet import Prophet"
   ]
  },
  {
   "cell_type": "code",
   "execution_count": 3,
   "id": "b68c5883",
   "metadata": {},
   "outputs": [],
   "source": [
    "sys.path.append('../scr')\n",
    "\n",
    "from utils_clean import filtrar_ub_mensual, partir_train_test\n",
    "from utils_data import downloadTable\n",
    "from utils_metrics import errorMetrics"
   ]
  },
  {
   "cell_type": "code",
   "execution_count": 4,
   "id": "781931c6",
   "metadata": {},
   "outputs": [],
   "source": [
    "m = Prophet()"
   ]
  }
 ],
 "metadata": {
  "kernelspec": {
   "display_name": "prophet",
   "language": "python",
   "name": "python3"
  },
  "language_info": {
   "codemirror_mode": {
    "name": "ipython",
    "version": 3
   },
   "file_extension": ".py",
   "mimetype": "text/x-python",
   "name": "python",
   "nbconvert_exporter": "python",
   "pygments_lexer": "ipython3",
   "version": "3.13.4"
  }
 },
 "nbformat": 4,
 "nbformat_minor": 5
}
