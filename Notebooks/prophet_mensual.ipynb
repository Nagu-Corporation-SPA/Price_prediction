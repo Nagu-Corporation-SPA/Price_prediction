{
 "cells": [
  {
   "cell_type": "code",
   "execution_count": 2,
   "id": "c697a749",
   "metadata": {},
   "outputs": [
    {
     "name": "stderr",
     "output_type": "stream",
     "text": [
      "c:\\Users\\AlejandroLuzanto\\.conda\\envs\\prophet\\Lib\\site-packages\\tqdm\\auto.py:21: TqdmWarning: IProgress not found. Please update jupyter and ipywidgets. See https://ipywidgets.readthedocs.io/en/stable/user_install.html\n",
      "  from .autonotebook import tqdm as notebook_tqdm\n"
     ]
    }
   ],
   "source": [
    "import pandas as pd\n",
    "import numpy as np\n",
    "import sys\n",
    "from prophet import Prophet"
   ]
  },
  {
   "cell_type": "code",
   "execution_count": 3,
   "id": "b68c5883",
   "metadata": {},
   "outputs": [],
   "source": [
    "sys.path.append('../scr')\n",
    "\n",
    "from utils_clean import filtrar_ub_mensual, partir_train_test\n",
    "from utils_data import downloadTable\n",
    "from utils_metrics import errorMetrics"
   ]
  },
  {
   "cell_type": "code",
   "execution_count": 4,
   "id": "1daeef47",
   "metadata": {},
   "outputs": [
    {
     "name": "stdout",
     "output_type": "stream",
     "text": [
      "Folder 'bigqueryDatabases' already exists.\n",
      "Reading bigqueryDatabases\\globalPricesTable.csv from local CSV.\n"
     ]
    }
   ],
   "source": [
    "queryPrices = \"\"\"\n",
    "SELECT * FROM `desarrollo-444913.globalPrices.prices`\n",
    "\"\"\"\n",
    "# Usar forceDownload=True para actualizar la tabla\n",
    "df = downloadTable(queryPrices,\"globalPricesTable\",forceDownload=False)\n",
    "dfUbMensual = filtrar_ub_mensual(df)"
   ]
  },
  {
   "cell_type": "code",
   "execution_count": 5,
   "id": "152f1b16",
   "metadata": {},
   "outputs": [
    {
     "data": {
      "text/plain": [
       "year_month\n",
       "2007-01-01    4.173396\n",
       "2007-02-01    4.213685\n",
       "2007-03-01    4.106710\n",
       "2007-04-01    4.207433\n",
       "2007-05-01    4.111156\n",
       "                ...   \n",
       "2025-02-01    6.270513\n",
       "2025-03-01    6.308024\n",
       "2025-04-01    6.435143\n",
       "2025-05-01    6.079487\n",
       "2025-06-01    5.551561\n",
       "Name: price, Length: 222, dtype: float64"
      ]
     },
     "execution_count": 5,
     "metadata": {},
     "output_type": "execute_result"
    }
   ],
   "source": [
    "dfUbMensual"
   ]
  },
  {
   "cell_type": "code",
   "execution_count": null,
   "id": "781931c6",
   "metadata": {},
   "outputs": [],
   "source": [
    "m = Prophet(holidays='US')"
   ]
  },
  {
   "cell_type": "code",
   "execution_count": null,
   "id": "31c16774",
   "metadata": {},
   "outputs": [],
   "source": []
  }
 ],
 "metadata": {
  "kernelspec": {
   "display_name": "prophet",
   "language": "python",
   "name": "python3"
  },
  "language_info": {
   "codemirror_mode": {
    "name": "ipython",
    "version": 3
   },
   "file_extension": ".py",
   "mimetype": "text/x-python",
   "name": "python",
   "nbconvert_exporter": "python",
   "pygments_lexer": "ipython3",
   "version": "3.13.4"
  }
 },
 "nbformat": 4,
 "nbformat_minor": 5
}
