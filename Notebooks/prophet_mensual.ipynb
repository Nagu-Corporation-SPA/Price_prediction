{
 "cells": [
  {
   "cell_type": "code",
   "execution_count": 1,
   "id": "c697a749",
   "metadata": {},
   "outputs": [
    {
     "name": "stderr",
     "output_type": "stream",
     "text": [
      "c:\\Users\\AlejandroLuzanto\\.conda\\envs\\prophet\\Lib\\site-packages\\tqdm\\auto.py:21: TqdmWarning: IProgress not found. Please update jupyter and ipywidgets. See https://ipywidgets.readthedocs.io/en/stable/user_install.html\n",
      "  from .autonotebook import tqdm as notebook_tqdm\n"
     ]
    }
   ],
   "source": [
    "import pandas as pd\n",
    "import numpy as np\n",
    "import sys\n",
    "from prophet import Prophet\n",
    "import os\n",
    "import json"
   ]
  },
  {
   "cell_type": "code",
   "execution_count": 2,
   "id": "b68c5883",
   "metadata": {},
   "outputs": [],
   "source": [
    "sys.path.append('../scr')\n",
    "\n",
    "from utils_clean import filtrar_ub_mensual,preprocess_data_prophet\n",
    "from utils_data import downloadTable\n",
    "from utils_metrics import errorMetrics"
   ]
  },
  {
   "cell_type": "code",
   "execution_count": 3,
   "id": "1daeef47",
   "metadata": {},
   "outputs": [
    {
     "name": "stdout",
     "output_type": "stream",
     "text": [
      "Folder 'bigqueryDatabases' already exists.\n",
      "Reading bigqueryDatabases\\globalPricesTable.csv from local CSV.\n"
     ]
    }
   ],
   "source": [
    "queryPrices = \"\"\"\n",
    "SELECT date, price/2.204, priceId, priceName, currency, currencyId,priceType, source FROM `desarrollo-444913.globalPrices.prices`\n",
    "\"\"\"\n",
    "# Usar forceDownload=True para actualizar la tabla\n",
    "df = downloadTable(queryPrices,\"globalPricesTable\",forceDownload=False)\n",
    "dfUbMensual = filtrar_ub_mensual(df)\n",
    "train = dfUbMensual.loc[:'2023-12-01']   # Ajusta el string según tu índice\n",
    "# Test: enero, febrero, marzo 2025\n",
    "test = dfUbMensual.loc['2024-01-01':'2024-12-01']\n",
    "\n"
   ]
  },
  {
   "cell_type": "code",
   "execution_count": 4,
   "id": "82a950b1",
   "metadata": {},
   "outputs": [],
   "source": [
    "train = preprocess_data_prophet(train)\n",
    "test = preprocess_data_prophet(test)"
   ]
  },
  {
   "cell_type": "markdown",
   "id": "f3356bd5",
   "metadata": {},
   "source": [
    "# Prophet horizonte de 12 meses"
   ]
  },
  {
   "cell_type": "code",
   "execution_count": 6,
   "id": "152f1b16",
   "metadata": {},
   "outputs": [
    {
     "name": "stderr",
     "output_type": "stream",
     "text": [
      "09:19:20 - cmdstanpy - INFO - Chain [1] start processing\n",
      "09:19:21 - cmdstanpy - INFO - Chain [1] done processing\n"
     ]
    }
   ],
   "source": [
    "date = pd.Timestamp.now().strftime('%Y-%m-%d_%H-%M-%S')\n",
    "dir_checkpoint = f\"\"\"results/Prophet_Base_12Meses_{date}/\"\"\"\n",
    "horizonte = 12\n",
    "model = Prophet()\n",
    "model.add_country_holidays(country_name='US')\n",
    "model.fit(train)\n",
    "start_date = test.iloc[0][\"ds\"]\n",
    "end_date = test.iloc[-1][\"ds\"]\n",
    "future = pd.date_range(start=start_date, end=end_date, freq='MS')\n",
    "future = pd.DataFrame({'ds': future})\n",
    "forecast = model.predict(future)\n",
    "pred = forecast[[\"ds\",\"yhat\"]]\n",
    "metric = errorMetrics(test[\"y\"].to_numpy(), pred[\"yhat\"].to_numpy())\n",
    "\n",
    "if not os.path.exists(dir_checkpoint):\n",
    "    os.makedirs(dir_checkpoint)\n",
    "\n",
    "logDict = {\"modelo\": \"base 12 meses\"}\n",
    "with open(dir_checkpoint + 'log.json', 'w') as f:\n",
    "    json.dump(logDict, f, indent=4)\n",
    "pd.DataFrame.from_dict(metric).to_csv(str(dir_checkpoint)+'metricas.csv', index=False)\n",
    "result = pd.concat([test[\"y\"], pred[\"yhat\"]], axis=1)\n",
    "result.columns = ['real', 'pred']\n",
    "result.to_csv(str(dir_checkpoint)+'predicciones.csv', index=True)"
   ]
  },
  {
   "cell_type": "markdown",
   "id": "a05f4f10",
   "metadata": {},
   "source": [
    "# Prophet one step refitting model"
   ]
  },
  {
   "cell_type": "code",
   "execution_count": 9,
   "id": "49b13f0d",
   "metadata": {},
   "outputs": [
    {
     "name": "stderr",
     "output_type": "stream",
     "text": [
      "09:21:12 - cmdstanpy - INFO - Chain [1] start processing\n",
      "09:21:12 - cmdstanpy - INFO - Chain [1] done processing\n",
      "09:21:13 - cmdstanpy - INFO - Chain [1] start processing\n",
      "09:21:13 - cmdstanpy - INFO - Chain [1] done processing\n",
      "09:21:13 - cmdstanpy - INFO - Chain [1] start processing\n",
      "09:21:13 - cmdstanpy - INFO - Chain [1] done processing\n",
      "09:21:13 - cmdstanpy - INFO - Chain [1] start processing\n",
      "09:21:13 - cmdstanpy - INFO - Chain [1] done processing\n",
      "09:21:13 - cmdstanpy - INFO - Chain [1] start processing\n",
      "09:21:13 - cmdstanpy - INFO - Chain [1] done processing\n",
      "09:21:13 - cmdstanpy - INFO - Chain [1] start processing\n",
      "09:21:14 - cmdstanpy - INFO - Chain [1] done processing\n",
      "09:21:14 - cmdstanpy - INFO - Chain [1] start processing\n",
      "09:21:14 - cmdstanpy - INFO - Chain [1] done processing\n",
      "09:21:14 - cmdstanpy - INFO - Chain [1] start processing\n",
      "09:21:14 - cmdstanpy - INFO - Chain [1] done processing\n",
      "09:21:14 - cmdstanpy - INFO - Chain [1] start processing\n",
      "09:21:14 - cmdstanpy - INFO - Chain [1] done processing\n",
      "09:21:14 - cmdstanpy - INFO - Chain [1] start processing\n",
      "09:21:14 - cmdstanpy - INFO - Chain [1] done processing\n",
      "09:21:15 - cmdstanpy - INFO - Chain [1] start processing\n",
      "09:21:15 - cmdstanpy - INFO - Chain [1] done processing\n",
      "09:21:15 - cmdstanpy - INFO - Chain [1] start processing\n",
      "09:21:15 - cmdstanpy - INFO - Chain [1] done processing\n"
     ]
    }
   ],
   "source": [
    "date = pd.Timestamp.now().strftime('%Y-%m-%d_%H-%M-%S')\n",
    "dir_checkpoint = f\"\"\"results/Prophet_oneStepReFitting_{date}/\"\"\"\n",
    "horizonte = 12\n",
    "traincopy = train.copy()\n",
    "\n",
    "\n",
    "pred = []\n",
    "for i, row in test.iterrows():\n",
    "    if i == 0:\n",
    "        model = Prophet()\n",
    "        model.add_country_holidays(country_name='US')\n",
    "        model.fit(traincopy)\n",
    "        future = pd.DataFrame({'ds': [row[\"ds\"]]})\n",
    "        forecast = model.predict(future)\n",
    "        pred.append(forecast[[\"ds\",\"yhat\"]])\n",
    "    else:\n",
    "        model = Prophet()\n",
    "        model.add_country_holidays(country_name='US')\n",
    "        new_row = test.iloc[i-1:i]  # use double brackets to get a one-row DataFrame\n",
    "        traincopy = pd.concat([traincopy, new_row], ignore_index=True)\n",
    "        model.fit(traincopy)\n",
    "        future = pd.DataFrame({'ds': [row[\"ds\"]]})\n",
    "        forecast = model.predict(future)\n",
    "        pred.append(forecast[[\"ds\",\"yhat\"]])\n",
    "\n",
    "pred = pd.concat(pred).reset_index()\n",
    "metric = errorMetrics(test[\"y\"].to_numpy(), pred[\"yhat\"].to_numpy())\n",
    "\n",
    "if not os.path.exists(dir_checkpoint):\n",
    "    os.makedirs(dir_checkpoint)\n",
    "\n",
    "logDict = {\"modelo\": \"base refitting\"}\n",
    "with open(dir_checkpoint + 'log.json', 'w') as f:\n",
    "    json.dump(logDict, f, indent=4)\n",
    "pd.DataFrame.from_dict(metric).to_csv(str(dir_checkpoint)+'metricas.csv', index=False)\n",
    "result = pd.concat([test[\"y\"], pred[\"yhat\"]], axis=1)\n",
    "result.columns = ['real', 'pred']\n",
    "result.to_csv(str(dir_checkpoint)+'predicciones.csv', index=True)"
   ]
  },
  {
   "cell_type": "code",
   "execution_count": null,
   "id": "63ce6fe4",
   "metadata": {},
   "outputs": [],
   "source": []
  }
 ],
 "metadata": {
  "kernelspec": {
   "display_name": "prophet",
   "language": "python",
   "name": "python3"
  },
  "language_info": {
   "codemirror_mode": {
    "name": "ipython",
    "version": 3
   },
   "file_extension": ".py",
   "mimetype": "text/x-python",
   "name": "python",
   "nbconvert_exporter": "python",
   "pygments_lexer": "ipython3",
   "version": "3.13.4"
  }
 },
 "nbformat": 4,
 "nbformat_minor": 5
}
