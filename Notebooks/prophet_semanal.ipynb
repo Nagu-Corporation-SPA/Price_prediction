{
 "cells": [
  {
   "cell_type": "code",
   "execution_count": 10,
   "id": "c697a749",
   "metadata": {},
   "outputs": [],
   "source": [
    "import pandas as pd\n",
    "import numpy as np\n",
    "import sys\n",
    "from prophet import Prophet\n",
    "import os\n",
    "import json"
   ]
  },
  {
   "cell_type": "code",
   "execution_count": 11,
   "id": "b68c5883",
   "metadata": {},
   "outputs": [],
   "source": [
    "sys.path.append('../scr')\n",
    "\n",
    "from utils_clean import filtrar_ub_semanal_iso,preprocess_data_prophet\n",
    "from utils_data import downloadTable\n",
    "from utils_metrics import errorMetrics"
   ]
  },
  {
   "cell_type": "code",
   "execution_count": null,
   "id": "72d8b12b",
   "metadata": {},
   "outputs": [
    {
     "data": {
      "text/plain": [
       "Index(['date', 'price', 'priceId', 'priceName', 'currency', 'currencyId',\n",
       "       'priceType', 'source'],\n",
       "      dtype='object')"
      ]
     },
     "execution_count": 16,
     "metadata": {},
     "output_type": "execute_result"
    }
   ],
   "source": []
  },
  {
   "cell_type": "code",
   "execution_count": null,
   "id": "1daeef47",
   "metadata": {},
   "outputs": [
    {
     "name": "stdout",
     "output_type": "stream",
     "text": [
      "Folder 'bigqueryDatabases' already exists.\n",
      "Reading bigqueryDatabases\\globalPricesTable.csv from local CSV.\n"
     ]
    }
   ],
   "source": [
    "queryPrices = \"\"\"\n",
    "SELECT date, price/2.204, priceId, priceName, currency, currencyId,priceType, source FROM `desarrollo-444913.globalPrices.prices`\n",
    "\"\"\"\n",
    "# Usar forceDownload=True para actualizar la tabla\n",
    "df = downloadTable(queryPrices,\"globalPricesTable\",forceDownload=False)\n",
    "dfUbMensual = filtrar_ub_semanal_iso(df)\n",
    "train = dfUbMensual.loc[:'2023-12-30']   # Ajusta el string según tu índice\n",
    "# Test: enero, febrero, marzo 2025\n",
    "test = dfUbMensual.loc['2024-01-01':'2024-12-31']\n",
    "\n"
   ]
  },
  {
   "cell_type": "code",
   "execution_count": 13,
   "id": "82a950b1",
   "metadata": {},
   "outputs": [],
   "source": [
    "train = preprocess_data_prophet(train)\n",
    "test = preprocess_data_prophet(test)"
   ]
  },
  {
   "cell_type": "code",
   "execution_count": null,
   "id": "629cc84b",
   "metadata": {},
   "outputs": [],
   "source": []
  },
  {
   "cell_type": "markdown",
   "id": "f3356bd5",
   "metadata": {},
   "source": [
    "# Prophet horizonte de 12 meses"
   ]
  },
  {
   "cell_type": "code",
   "execution_count": 14,
   "id": "152f1b16",
   "metadata": {},
   "outputs": [
    {
     "name": "stderr",
     "output_type": "stream",
     "text": [
      "16:41:03 - cmdstanpy - INFO - Chain [1] start processing\n",
      "16:41:03 - cmdstanpy - INFO - Chain [1] done processing\n"
     ]
    }
   ],
   "source": [
    "date = pd.Timestamp.now().strftime('%Y-%m-%d_%H-%M-%S')\n",
    "dir_checkpoint = f\"\"\"results/Prophet_Base_semanal_un_año_{date}/\"\"\"\n",
    "horizonte = 12\n",
    "model = Prophet()\n",
    "model.add_country_holidays(country_name='US')\n",
    "model.fit(train)\n",
    "start_date = test.iloc[0][\"ds\"]\n",
    "end_date = test.iloc[-1][\"ds\"]\n",
    "future = pd.date_range(start=start_date, end=end_date, freq='MS')\n",
    "future = pd.DataFrame({'ds': future})\n",
    "forecast = model.predict(future)\n",
    "pred = forecast[[\"ds\",\"yhat\"]]\n",
    "metric = errorMetrics(test[\"y\"].to_numpy(), pred[\"yhat\"].to_numpy())\n",
    "\n",
    "if not os.path.exists(dir_checkpoint):\n",
    "    os.makedirs(dir_checkpoint)\n",
    "\n",
    "logDict = {\"modelo\": \"base semanal 12 meses\"}\n",
    "with open(dir_checkpoint + 'log.json', 'w') as f:\n",
    "    json.dump(logDict, f, indent=4)\n",
    "pd.DataFrame.from_dict(metric).to_csv(str(dir_checkpoint)+'metricas.csv', index=False)\n",
    "result = pd.concat([test[\"y\"], pred[\"yhat\"]], axis=1)\n",
    "result.columns = ['real', 'pred']\n",
    "result.to_csv(str(dir_checkpoint)+'predicciones.csv', index=True)"
   ]
  },
  {
   "cell_type": "code",
   "execution_count": 15,
   "id": "a0a123df",
   "metadata": {},
   "outputs": [
    {
     "data": {
      "text/html": [
       "<div>\n",
       "<style scoped>\n",
       "    .dataframe tbody tr th:only-of-type {\n",
       "        vertical-align: middle;\n",
       "    }\n",
       "\n",
       "    .dataframe tbody tr th {\n",
       "        vertical-align: top;\n",
       "    }\n",
       "\n",
       "    .dataframe thead th {\n",
       "        text-align: right;\n",
       "    }\n",
       "</style>\n",
       "<table border=\"1\" class=\"dataframe\">\n",
       "  <thead>\n",
       "    <tr style=\"text-align: right;\">\n",
       "      <th></th>\n",
       "      <th>real</th>\n",
       "      <th>pred</th>\n",
       "    </tr>\n",
       "  </thead>\n",
       "  <tbody>\n",
       "    <tr>\n",
       "      <th>0</th>\n",
       "      <td>14.352076</td>\n",
       "      <td>12.974508</td>\n",
       "    </tr>\n",
       "    <tr>\n",
       "      <th>1</th>\n",
       "      <td>13.999337</td>\n",
       "      <td>13.086134</td>\n",
       "    </tr>\n",
       "    <tr>\n",
       "      <th>2</th>\n",
       "      <td>13.930443</td>\n",
       "      <td>13.553508</td>\n",
       "    </tr>\n",
       "    <tr>\n",
       "      <th>3</th>\n",
       "      <td>13.822967</td>\n",
       "      <td>13.595585</td>\n",
       "    </tr>\n",
       "    <tr>\n",
       "      <th>4</th>\n",
       "      <td>13.737538</td>\n",
       "      <td>13.894498</td>\n",
       "    </tr>\n",
       "    <tr>\n",
       "      <th>5</th>\n",
       "      <td>12.965921</td>\n",
       "      <td>13.404360</td>\n",
       "    </tr>\n",
       "    <tr>\n",
       "      <th>6</th>\n",
       "      <td>12.103364</td>\n",
       "      <td>13.215582</td>\n",
       "    </tr>\n",
       "    <tr>\n",
       "      <th>7</th>\n",
       "      <td>11.863611</td>\n",
       "      <td>12.740630</td>\n",
       "    </tr>\n",
       "    <tr>\n",
       "      <th>8</th>\n",
       "      <td>11.816763</td>\n",
       "      <td>12.618949</td>\n",
       "    </tr>\n",
       "    <tr>\n",
       "      <th>9</th>\n",
       "      <td>11.918727</td>\n",
       "      <td>12.244699</td>\n",
       "    </tr>\n",
       "    <tr>\n",
       "      <th>10</th>\n",
       "      <td>12.635228</td>\n",
       "      <td>12.069665</td>\n",
       "    </tr>\n",
       "    <tr>\n",
       "      <th>11</th>\n",
       "      <td>13.084420</td>\n",
       "      <td>12.692524</td>\n",
       "    </tr>\n",
       "  </tbody>\n",
       "</table>\n",
       "</div>"
      ],
      "text/plain": [
       "         real       pred\n",
       "0   14.352076  12.974508\n",
       "1   13.999337  13.086134\n",
       "2   13.930443  13.553508\n",
       "3   13.822967  13.595585\n",
       "4   13.737538  13.894498\n",
       "5   12.965921  13.404360\n",
       "6   12.103364  13.215582\n",
       "7   11.863611  12.740630\n",
       "8   11.816763  12.618949\n",
       "9   11.918727  12.244699\n",
       "10  12.635228  12.069665\n",
       "11  13.084420  12.692524"
      ]
     },
     "execution_count": 15,
     "metadata": {},
     "output_type": "execute_result"
    }
   ],
   "source": [
    "result"
   ]
  },
  {
   "cell_type": "markdown",
   "id": "a05f4f10",
   "metadata": {},
   "source": [
    "# Prophet one step refitting model"
   ]
  },
  {
   "cell_type": "code",
   "execution_count": null,
   "id": "49b13f0d",
   "metadata": {},
   "outputs": [],
   "source": [
    "date = pd.Timestamp.now().strftime('%Y-%m-%d_%H-%M-%S')\n",
    "dir_checkpoint = f\"\"\"results/Prophet_oneStepReFitting_{date}/\"\"\"\n",
    "horizonte = 12\n",
    "traincopy = train.copy()\n",
    "\n",
    "\n",
    "pred = []\n",
    "for i, row in test.iterrows():\n",
    "    if i == 0:\n",
    "        model = Prophet()\n",
    "        model.add_country_holidays(country_name='US')\n",
    "        model.fit(traincopy)\n",
    "        future = pd.DataFrame({'ds': [row[\"ds\"]]})\n",
    "        forecast = model.predict(future)\n",
    "        pred.append(forecast[[\"ds\",\"yhat\"]])\n",
    "    else:\n",
    "        model = Prophet()\n",
    "        model.add_country_holidays(country_name='US')\n",
    "        new_row = test.iloc[i-1:i]  # use double brackets to get a one-row DataFrame\n",
    "        traincopy = pd.concat([traincopy, new_row], ignore_index=True)\n",
    "        model.fit(traincopy)\n",
    "        future = pd.DataFrame({'ds': [row[\"ds\"]]})\n",
    "        forecast = model.predict(future)\n",
    "        pred.append(forecast[[\"ds\",\"yhat\"]])\n",
    "\n",
    "pd.concat(pred)\n",
    "pred = forecast[[\"ds\",\"yhat\"]]\n",
    "metric = errorMetrics(test[\"y\"].to_numpy(), pred[\"yhat\"].to_numpy())\n",
    "\n",
    "if not os.path.exists(dir_checkpoint):\n",
    "    os.makedirs(dir_checkpoint)\n",
    "\n",
    "logDict = {\"modelo\": \"base refitting\"}\n",
    "with open(dir_checkpoint + 'log.json', 'w') as f:\n",
    "    json.dump(logDict, f, indent=4)\n",
    "pd.DataFrame.from_dict(metric).to_csv(str(dir_checkpoint)+'metricas.csv', index=False)\n",
    "result = pd.concat([test[\"y\"], pred[\"yhat\"]], axis=1)\n",
    "result.columns = ['real', 'pred']\n",
    "result.to_csv(str(dir_checkpoint)+'predicciones.csv', index=True)"
   ]
  }
 ],
 "metadata": {
  "kernelspec": {
   "display_name": "prophet",
   "language": "python",
   "name": "python3"
  },
  "language_info": {
   "codemirror_mode": {
    "name": "ipython",
    "version": 3
   },
   "file_extension": ".py",
   "mimetype": "text/x-python",
   "name": "python",
   "nbconvert_exporter": "python",
   "pygments_lexer": "ipython3",
   "version": "3.13.4"
  }
 },
 "nbformat": 4,
 "nbformat_minor": 5
}
