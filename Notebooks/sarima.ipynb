{
 "cells": [
  {
   "cell_type": "code",
   "execution_count": 4,
   "id": "85f81da3",
   "metadata": {},
   "outputs": [
    {
     "ename": "ImportError",
     "evalue": "cannot import name 'grid_search_sarima' from 'utils' (w:\\repo\\Price_prediction\\utils.py)",
     "output_type": "error",
     "traceback": [
      "\u001b[1;31m---------------------------------------------------------------------------\u001b[0m",
      "\u001b[1;31mImportError\u001b[0m                               Traceback (most recent call last)",
      "Cell \u001b[1;32mIn[4], line 10\u001b[0m\n\u001b[0;32m      8\u001b[0m \u001b[38;5;28;01mfrom\u001b[39;00m \u001b[38;5;21;01mstatsmodels\u001b[39;00m\u001b[38;5;21;01m.\u001b[39;00m\u001b[38;5;21;01mtsa\u001b[39;00m\u001b[38;5;21;01m.\u001b[39;00m\u001b[38;5;21;01mstattools\u001b[39;00m \u001b[38;5;28;01mimport\u001b[39;00m adfuller\n\u001b[0;32m      9\u001b[0m \u001b[38;5;28;01mfrom\u001b[39;00m \u001b[38;5;21;01mutils\u001b[39;00m \u001b[38;5;28;01mimport\u001b[39;00m \u001b[38;5;241m*\u001b[39m\n\u001b[1;32m---> 10\u001b[0m \u001b[38;5;28;01mfrom\u001b[39;00m \u001b[38;5;21;01mutils\u001b[39;00m \u001b[38;5;28;01mimport\u001b[39;00m grid_search_sarima\n",
      "\u001b[1;31mImportError\u001b[0m: cannot import name 'grid_search_sarima' from 'utils' (w:\\repo\\Price_prediction\\utils.py)"
     ]
    }
   ],
   "source": [
    "import pandas as pd\n",
    "import numpy as np\n",
    "import matplotlib.pyplot as plt\n",
    "from statsmodels.tsa.statespace.sarimax import SARIMAX\n",
    "from statsmodels.tsa.stattools import adfuller, acf, pacf\n",
    "from statsmodels.graphics.tsaplots import plot_acf, plot_pacf\n",
    "from pmdarima import auto_arima\n",
    "from statsmodels.tsa.stattools import adfuller\n",
    "from utils import *\n",
    "from utils import grid_search_sarima\n"
   ]
  },
  {
   "cell_type": "code",
   "execution_count": 25,
   "id": "5d337214",
   "metadata": {},
   "outputs": [
    {
     "ename": "ImportError",
     "evalue": "cannot import name 'plot_acf_pacf' from 'utils' (w:\\repo\\Price_prediction\\utils.py)",
     "output_type": "error",
     "traceback": [
      "\u001b[1;31m---------------------------------------------------------------------------\u001b[0m",
      "\u001b[1;31mImportError\u001b[0m                               Traceback (most recent call last)",
      "Cell \u001b[1;32mIn[25], line 1\u001b[0m\n\u001b[1;32m----> 1\u001b[0m \u001b[38;5;28;01mfrom\u001b[39;00m \u001b[38;5;21;01mutils\u001b[39;00m \u001b[38;5;28;01mimport\u001b[39;00m plot_acf_pacf\n",
      "\u001b[1;31mImportError\u001b[0m: cannot import name 'plot_acf_pacf' from 'utils' (w:\\repo\\Price_prediction\\utils.py)"
     ]
    }
   ],
   "source": [
    "from utils import plot_acf_pacf\n"
   ]
  },
  {
   "cell_type": "code",
   "execution_count": 13,
   "id": "bd9d4eeb",
   "metadata": {},
   "outputs": [],
   "source": [
    "df = pd.read_csv(\"bigqueryDatabases/prices.csv\")\n",
    "df = filtrar_ub(df)"
   ]
  },
  {
   "cell_type": "code",
   "execution_count": 14,
   "id": "4e64504e",
   "metadata": {},
   "outputs": [
    {
     "data": {
      "text/plain": [
       "year_month\n",
       "2007-01-01     9.198165\n",
       "2007-02-01     9.286962\n",
       "2007-03-01     9.051190\n",
       "2007-04-01     9.273183\n",
       "2007-05-01     9.060988\n",
       "                ...    \n",
       "2025-01-01    14.121816\n",
       "2025-02-01    13.820212\n",
       "2025-03-01    13.902885\n",
       "2025-04-01    14.183055\n",
       "2025-05-01    13.517076\n",
       "Name: price, Length: 221, dtype: float64"
      ]
     },
     "execution_count": 14,
     "metadata": {},
     "output_type": "execute_result"
    }
   ],
   "source": [
    "df"
   ]
  },
  {
   "cell_type": "code",
   "execution_count": 15,
   "id": "efcbbd7a",
   "metadata": {},
   "outputs": [],
   "source": [
    "#ya sabemos que la seri es estacionaria\n",
    "\n",
    "df_1 = filtrar_trimestre(df, trimestre=1)\n",
    "df_2 = filtrar_trimestre(df, trimestre=2)\n",
    "df_3 = filtrar_trimestre(df, trimestre=3)\n",
    "df_4 = filtrar_trimestre(df, trimestre=4)"
   ]
  },
  {
   "cell_type": "code",
   "execution_count": 16,
   "id": "fc79bf07",
   "metadata": {},
   "outputs": [
    {
     "name": "stdout",
     "output_type": "stream",
     "text": [
      "--- Trimestre 1 ---\n",
      "ADF Statistic : -1.7647\n",
      "p-value       : 0.3981\n",
      "Lags Used     : 0\n",
      "N Obs         : 56\n",
      "Critical Value 1% : -3.5529\n",
      "Critical Value 5% : -2.9147\n",
      "Critical Value 10% : -2.5951\n",
      "=> La serie NO es estacionaria (no rechazamos H0)\n",
      "\n",
      "--- Trimestre 2 ---\n",
      "ADF Statistic : -2.8868\n",
      "p-value       : 0.0469\n",
      "Lags Used     : 1\n",
      "N Obs         : 54\n",
      "Critical Value 1% : -3.5577\n",
      "Critical Value 5% : -2.9168\n",
      "Critical Value 10% : -2.5962\n",
      "=> La serie ES estacionaria (rechazamos H0)\n",
      "\n",
      "--- Trimestre 3 ---\n",
      "ADF Statistic : -2.9536\n",
      "p-value       : 0.0395\n",
      "Lags Used     : 0\n",
      "N Obs         : 53\n",
      "Critical Value 1% : -3.5602\n",
      "Critical Value 5% : -2.9179\n",
      "Critical Value 10% : -2.5968\n",
      "=> La serie ES estacionaria (rechazamos H0)\n",
      "\n",
      "--- Trimestre 4 ---\n",
      "ADF Statistic : -2.6573\n",
      "p-value       : 0.0817\n",
      "Lags Used     : 1\n",
      "N Obs         : 52\n",
      "Critical Value 1% : -3.5629\n",
      "Critical Value 5% : -2.9190\n",
      "Critical Value 10% : -2.5974\n",
      "=> La serie NO es estacionaria (no rechazamos H0)\n",
      "\n"
     ]
    }
   ],
   "source": [
    "\n",
    "def probar_estacionariedad(df_trim, nombre=\"\"):\n",
    "    resultado = adfuller(df_trim.dropna())\n",
    "    print(f\"--- {nombre} ---\")\n",
    "    print(f\"ADF Statistic : {resultado[0]:.4f}\")\n",
    "    print(f\"p-value       : {resultado[1]:.4f}\")\n",
    "    print(f\"Lags Used     : {resultado[2]}\")\n",
    "    print(f\"N Obs         : {resultado[3]}\")\n",
    "    for key, value in resultado[4].items():\n",
    "        print(f\"Critical Value {key} : {value:.4f}\")\n",
    "    if resultado[1] < 0.05:\n",
    "        print(\"=> La serie ES estacionaria (rechazamos H0)\\n\")\n",
    "    else:\n",
    "        print(\"=> La serie NO es estacionaria (no rechazamos H0)\\n\")\n",
    "\n",
    "# Usar con tus dataframes trimestrales\n",
    "probar_estacionariedad(df_1, \"Trimestre 1\")\n",
    "probar_estacionariedad(df_2, \"Trimestre 2\")\n",
    "probar_estacionariedad(df_3, \"Trimestre 3\")\n",
    "probar_estacionariedad(df_4, \"Trimestre 4\")\n"
   ]
  },
  {
   "cell_type": "code",
   "execution_count": 17,
   "id": "c8e75936",
   "metadata": {},
   "outputs": [],
   "source": [
    "# como df1 y df4 son no estacionarios, vamos a diferenciarlos\n",
    "# Aplicar diferenciación de primer orden\n",
    "df_1 = df_1.diff().dropna()\n",
    "df_4 = df_4.diff().dropna()\n",
    "# Ahora todas son estacionarias\n"
   ]
  },
  {
   "cell_type": "code",
   "execution_count": null,
   "id": "79fb9681",
   "metadata": {},
   "outputs": [
    {
     "ename": "NameError",
     "evalue": "name 'df_1' is not defined",
     "output_type": "error",
     "traceback": [
      "\u001b[1;31m---------------------------------------------------------------------------\u001b[0m",
      "\u001b[1;31mNameError\u001b[0m                                 Traceback (most recent call last)",
      "Cell \u001b[1;32mIn[2], line 4\u001b[0m\n\u001b[0;32m      1\u001b[0m \u001b[38;5;66;03m# Buscar los hiperparámetros óptimos para cada trimestre\u001b[39;00m\n\u001b[0;32m      2\u001b[0m resultados_sarima \u001b[38;5;241m=\u001b[39m {}\n\u001b[1;32m----> 4\u001b[0m \u001b[38;5;28;01mfor\u001b[39;00m i, df_trim \u001b[38;5;129;01min\u001b[39;00m \u001b[38;5;28menumerate\u001b[39m([df_1, df_2, df_3, df_4], start\u001b[38;5;241m=\u001b[39m\u001b[38;5;241m1\u001b[39m):\n\u001b[0;32m      5\u001b[0m     \u001b[38;5;28mprint\u001b[39m(\u001b[38;5;124mf\u001b[39m\u001b[38;5;124m\"\u001b[39m\u001b[38;5;130;01m\\n\u001b[39;00m\u001b[38;5;124m🔍 Buscando mejores hiperparámetros para Trimestre \u001b[39m\u001b[38;5;132;01m{\u001b[39;00mi\u001b[38;5;132;01m}\u001b[39;00m\u001b[38;5;124m...\u001b[39m\u001b[38;5;124m\"\u001b[39m)\n\u001b[0;32m      7\u001b[0m     result \u001b[38;5;241m=\u001b[39m grid_search_sarima(\n\u001b[0;32m      8\u001b[0m         series\u001b[38;5;241m=\u001b[39mdf_trim,\n\u001b[0;32m      9\u001b[0m         p_range\u001b[38;5;241m=\u001b[39m\u001b[38;5;28mrange\u001b[39m(\u001b[38;5;241m0\u001b[39m, \u001b[38;5;241m3\u001b[39m),\n\u001b[1;32m   (...)\u001b[0m\n\u001b[0;32m     16\u001b[0m         verbose\u001b[38;5;241m=\u001b[39m\u001b[38;5;28;01mTrue\u001b[39;00m  \u001b[38;5;66;03m# Cambia a False si no quieres ver cada intento\u001b[39;00m\n\u001b[0;32m     17\u001b[0m     )\n",
      "\u001b[1;31mNameError\u001b[0m: name 'df_1' is not defined"
     ]
    }
   ],
   "source": [
    "# Buscar los hiperparámetros óptimos para cada trimestre\n",
    "resultados_sarima = {}\n",
    "\n",
    "for i, df_trim in enumerate([df_1, df_2, df_3, df_4], start=1):\n",
    "    print(f\"\\n🔍 Buscando mejores hiperparámetros para Trimestre {i}...\")\n",
    "    \n",
    "    result = grid_search_sarima(\n",
    "        series=df_trim,\n",
    "        p_range=range(0, 3),\n",
    "        d_range=range(0, 2),\n",
    "        q_range=range(0, 3),\n",
    "        P_range=range(0, 2),\n",
    "        D_range=range(0, 2),\n",
    "        Q_range=range(0, 2),\n",
    "        s=4,  # Trimestralidad\n",
    "        verbose=True  # Cambia a False si no quieres ver cada intento\n",
    "    )\n",
    "    \n",
    "    resultados_sarima[f'Trimestre {i}'] = result\n"
   ]
  },
  {
   "cell_type": "code",
   "execution_count": null,
   "id": "369b5e0a",
   "metadata": {},
   "outputs": [],
   "source": [
    "print(\"\\n hiperparámetros por trimestre:\")\n",
    "for trimestre, res in resultados_sarima.items():\n",
    "    print(f\"\\n📦 {trimestre}\")\n",
    "    print(\"  Order:\", res[\"order\"])\n",
    "    print(\"  Seasonal:\", res[\"seasonal_order\"])\n",
    "    print(\"  AIC:\", res[\"aic\"])"
   ]
  },
  {
   "cell_type": "code",
   "execution_count": null,
   "id": "23cf6d5c",
   "metadata": {},
   "outputs": [],
   "source": []
  }
 ],
 "metadata": {
  "kernelspec": {
   "display_name": "base",
   "language": "python",
   "name": "python3"
  },
  "language_info": {
   "codemirror_mode": {
    "name": "ipython",
    "version": 3
   },
   "file_extension": ".py",
   "mimetype": "text/x-python",
   "name": "python",
   "nbconvert_exporter": "python",
   "pygments_lexer": "ipython3",
   "version": "3.12.7"
  }
 },
 "nbformat": 4,
 "nbformat_minor": 5
}
