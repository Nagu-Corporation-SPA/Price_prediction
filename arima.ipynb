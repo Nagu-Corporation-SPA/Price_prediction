{
 "cells": [
  {
   "cell_type": "code",
   "execution_count": 7,
   "id": "46d1c4ee",
   "metadata": {},
   "outputs": [],
   "source": [
    "import pandas as pd\n",
    "import numpy as np\n",
    "import matplotlib.pyplot as plt\n",
    "import statsmodels.api as sm\n",
    "from statsmodels.tsa.arima.model import ARIMA\n",
    "from utils import *"
   ]
  },
  {
   "cell_type": "code",
   "execution_count": 11,
   "id": "cc78958b",
   "metadata": {},
   "outputs": [
    {
     "ename": "NameError",
     "evalue": "name 'filtrar_ub' is not defined",
     "output_type": "error",
     "traceback": [
      "\u001b[1;31m---------------------------------------------------------------------------\u001b[0m",
      "\u001b[1;31mNameError\u001b[0m                                 Traceback (most recent call last)",
      "Cell \u001b[1;32mIn[11], line 1\u001b[0m\n\u001b[1;32m----> 1\u001b[0m filtrar_ub()\n",
      "\u001b[1;31mNameError\u001b[0m: name 'filtrar_ub' is not defined"
     ]
    }
   ],
   "source": [
    "filtrar_ub()"
   ]
  },
  {
   "cell_type": "code",
   "execution_count": 3,
   "id": "c0236a13",
   "metadata": {},
   "outputs": [
    {
     "ename": "ImportError",
     "evalue": "cannot import name 'filtrar_ub' from 'utils' (w:\\repo\\Price_prediction\\utils.py)",
     "output_type": "error",
     "traceback": [
      "\u001b[1;31m---------------------------------------------------------------------------\u001b[0m",
      "\u001b[1;31mImportError\u001b[0m                               Traceback (most recent call last)",
      "Cell \u001b[1;32mIn[3], line 5\u001b[0m\n\u001b[0;32m      2\u001b[0m \u001b[38;5;28;01mimport\u001b[39;00m \u001b[38;5;21;01mutils\u001b[39;00m\n\u001b[0;32m      3\u001b[0m importlib\u001b[38;5;241m.\u001b[39mreload(utils)\n\u001b[1;32m----> 5\u001b[0m \u001b[38;5;28;01mfrom\u001b[39;00m \u001b[38;5;21;01mutils\u001b[39;00m \u001b[38;5;28;01mimport\u001b[39;00m filtrar_ub\n",
      "\u001b[1;31mImportError\u001b[0m: cannot import name 'filtrar_ub' from 'utils' (w:\\repo\\Price_prediction\\utils.py)"
     ]
    }
   ],
   "source": [
    "import importlib\n",
    "import utils\n",
    "importlib.reload(utils)\n",
    "\n",
    "from utils import filtrar_ub\n"
   ]
  },
  {
   "cell_type": "markdown",
   "id": "cc19bacf",
   "metadata": {},
   "source": [
    "# Importar datos"
   ]
  },
  {
   "cell_type": "code",
   "execution_count": 4,
   "id": "55f4ca2f",
   "metadata": {},
   "outputs": [
    {
     "data": {
      "text/html": [
       "<div>\n",
       "<style scoped>\n",
       "    .dataframe tbody tr th:only-of-type {\n",
       "        vertical-align: middle;\n",
       "    }\n",
       "\n",
       "    .dataframe tbody tr th {\n",
       "        vertical-align: top;\n",
       "    }\n",
       "\n",
       "    .dataframe thead th {\n",
       "        text-align: right;\n",
       "    }\n",
       "</style>\n",
       "<table border=\"1\" class=\"dataframe\">\n",
       "  <thead>\n",
       "    <tr style=\"text-align: right;\">\n",
       "      <th></th>\n",
       "      <th>date</th>\n",
       "      <th>price</th>\n",
       "      <th>priceId</th>\n",
       "      <th>priceName</th>\n",
       "      <th>currency</th>\n",
       "      <th>currencyId</th>\n",
       "      <th>priceType</th>\n",
       "      <th>source</th>\n",
       "    </tr>\n",
       "  </thead>\n",
       "  <tbody>\n",
       "    <tr>\n",
       "      <th>0</th>\n",
       "      <td>2025-05-27</td>\n",
       "      <td>12.676565</td>\n",
       "      <td>14</td>\n",
       "      <td>UB Canada WC Whole FOB Miami</td>\n",
       "      <td>USD</td>\n",
       "      <td>0</td>\n",
       "      <td>EXPORTS</td>\n",
       "      <td>URNER BARRY</td>\n",
       "    </tr>\n",
       "    <tr>\n",
       "      <th>1</th>\n",
       "      <td>2022-10-01</td>\n",
       "      <td>14.637188</td>\n",
       "      <td>4</td>\n",
       "      <td>Japan Frozen Atlantic TRIM-E</td>\n",
       "      <td>USD</td>\n",
       "      <td>0</td>\n",
       "      <td>EXPORT</td>\n",
       "      <td>CHILEAN EXPORTS</td>\n",
       "    </tr>\n",
       "    <tr>\n",
       "      <th>2</th>\n",
       "      <td>2023-03-01</td>\n",
       "      <td>12.265160</td>\n",
       "      <td>5</td>\n",
       "      <td>Japan Fresh Atlantic TRIM-A</td>\n",
       "      <td>USD</td>\n",
       "      <td>0</td>\n",
       "      <td>EXPORT</td>\n",
       "      <td>CHILEAN EXPORTS</td>\n",
       "    </tr>\n",
       "    <tr>\n",
       "      <th>3</th>\n",
       "      <td>2024-02-01</td>\n",
       "      <td>5.859417</td>\n",
       "      <td>1</td>\n",
       "      <td>Japan Frozen Coho HG</td>\n",
       "      <td>USD</td>\n",
       "      <td>0</td>\n",
       "      <td>EXPORT</td>\n",
       "      <td>CHILEAN EXPORTS</td>\n",
       "    </tr>\n",
       "    <tr>\n",
       "      <th>4</th>\n",
       "      <td>2012-11-08</td>\n",
       "      <td>6.724091</td>\n",
       "      <td>11</td>\n",
       "      <td>UB Atlantic TRIM-D 3-4 Lb FOB Miami</td>\n",
       "      <td>USD</td>\n",
       "      <td>0</td>\n",
       "      <td>EXPORTS</td>\n",
       "      <td>URNER BARRY</td>\n",
       "    </tr>\n",
       "  </tbody>\n",
       "</table>\n",
       "</div>"
      ],
      "text/plain": [
       "         date      price  priceId                            priceName  \\\n",
       "0  2025-05-27  12.676565       14         UB Canada WC Whole FOB Miami   \n",
       "1  2022-10-01  14.637188        4         Japan Frozen Atlantic TRIM-E   \n",
       "2  2023-03-01  12.265160        5          Japan Fresh Atlantic TRIM-A   \n",
       "3  2024-02-01   5.859417        1                 Japan Frozen Coho HG   \n",
       "4  2012-11-08   6.724091       11  UB Atlantic TRIM-D 3-4 Lb FOB Miami   \n",
       "\n",
       "  currency  currencyId priceType           source  \n",
       "0      USD           0   EXPORTS      URNER BARRY  \n",
       "1      USD           0    EXPORT  CHILEAN EXPORTS  \n",
       "2      USD           0    EXPORT  CHILEAN EXPORTS  \n",
       "3      USD           0    EXPORT  CHILEAN EXPORTS  \n",
       "4      USD           0   EXPORTS      URNER BARRY  "
      ]
     },
     "execution_count": 4,
     "metadata": {},
     "output_type": "execute_result"
    }
   ],
   "source": [
    "df = pd.read_csv(\"bigqueryDatabases/prices.csv\")\n",
    "df.head()"
   ]
  },
  {
   "cell_type": "markdown",
   "id": "64b4b8f9",
   "metadata": {},
   "source": [
    "# Limpieza"
   ]
  },
  {
   "cell_type": "code",
   "execution_count": 5,
   "id": "66d8f808",
   "metadata": {},
   "outputs": [
    {
     "data": {
      "text/plain": [
       "'\\ndf[\"date\"] = pd.to_datetime(df[\"date\"])\\n\\n# Urner Barry \\nproducto = \"UB Atlantic TRIM-D 3-4 Lb FOB Miami\"\\ndf = df[df[\"priceName\"] == producto].copy()\\n\\n# YYYY-MM\\ndf[\"year_month\"] = df[\"date\"].dt.to_period(\"M\").astype(str)\\n\\n# Agrupar por mes \\nserie_mensual = df.groupby(\"year_month\")[\"price\"].mean().reset_index()\\n'"
      ]
     },
     "execution_count": 5,
     "metadata": {},
     "output_type": "execute_result"
    }
   ],
   "source": [
    "\"\"\"\n",
    "df[\"date\"] = pd.to_datetime(df[\"date\"])\n",
    "\n",
    "# Urner Barry \n",
    "producto = \"UB Atlantic TRIM-D 3-4 Lb FOB Miami\"\n",
    "df = df[df[\"priceName\"] == producto].copy()\n",
    "\n",
    "# YYYY-MM\n",
    "df[\"year_month\"] = df[\"date\"].dt.to_period(\"M\").astype(str)\n",
    "\n",
    "# Agrupar por mes \n",
    "serie_mensual = df.groupby(\"year_month\")[\"price\"].mean().reset_index()\n",
    "\"\"\""
   ]
  },
  {
   "cell_type": "code",
   "execution_count": 4,
   "id": "588d4542",
   "metadata": {},
   "outputs": [],
   "source": [
    "from utils import *"
   ]
  },
  {
   "cell_type": "code",
   "execution_count": 5,
   "id": "644eaaf0",
   "metadata": {},
   "outputs": [
    {
     "name": "stderr",
     "output_type": "stream",
     "text": [
      "\"pwd\" no se reconoce como un comando interno o externo,\n",
      "programa o archivo por lotes ejecutable.\n"
     ]
    }
   ],
   "source": [
    "!pwd"
   ]
  },
  {
   "cell_type": "code",
   "execution_count": 6,
   "metadata": {},
   "outputs": [
    {
     "ename": "NameError",
     "evalue": "name 'filtrar_ub' is not defined",
     "output_type": "error",
     "traceback": [
      "\u001b[1;31m---------------------------------------------------------------------------\u001b[0m",
      "\u001b[1;31mNameError\u001b[0m                                 Traceback (most recent call last)",
      "Cell \u001b[1;32mIn[6], line 1\u001b[0m\n\u001b[1;32m----> 1\u001b[0m serie_mensual \u001b[38;5;241m=\u001b[39m filtrar_ub(df)\n\u001b[0;32m      2\u001b[0m serie_mensual\u001b[38;5;241m.\u001b[39mhead()\n",
      "\u001b[1;31mNameError\u001b[0m: name 'filtrar_ub' is not defined"
     ]
    }
   ],
   "source": [
    "\n",
    "serie_mensual = filtrar_ub(df)\n",
    "serie_mensual.head()\n"
   ]
  },
  {
   "cell_type": "code",
   "execution_count": null,
   "id": "2f4e1aae",
   "metadata": {},
   "outputs": [],
   "source": []
  },
  {
   "cell_type": "code",
   "execution_count": 7,
   "metadata": {},
   "outputs": [
    {
     "data": {
      "text/html": [
       "<div>\n",
       "<style scoped>\n",
       "    .dataframe tbody tr th:only-of-type {\n",
       "        vertical-align: middle;\n",
       "    }\n",
       "\n",
       "    .dataframe tbody tr th {\n",
       "        vertical-align: top;\n",
       "    }\n",
       "\n",
       "    .dataframe thead th {\n",
       "        text-align: right;\n",
       "    }\n",
       "</style>\n",
       "<table border=\"1\" class=\"dataframe\">\n",
       "  <thead>\n",
       "    <tr style=\"text-align: right;\">\n",
       "      <th></th>\n",
       "      <th>year_month</th>\n",
       "      <th>price</th>\n",
       "    </tr>\n",
       "  </thead>\n",
       "  <tbody>\n",
       "    <tr>\n",
       "      <th>0</th>\n",
       "      <td>2007-01</td>\n",
       "      <td>9.198165</td>\n",
       "    </tr>\n",
       "    <tr>\n",
       "      <th>1</th>\n",
       "      <td>2007-02</td>\n",
       "      <td>9.286962</td>\n",
       "    </tr>\n",
       "    <tr>\n",
       "      <th>2</th>\n",
       "      <td>2007-03</td>\n",
       "      <td>9.051190</td>\n",
       "    </tr>\n",
       "    <tr>\n",
       "      <th>3</th>\n",
       "      <td>2007-04</td>\n",
       "      <td>9.273183</td>\n",
       "    </tr>\n",
       "    <tr>\n",
       "      <th>4</th>\n",
       "      <td>2007-05</td>\n",
       "      <td>9.060988</td>\n",
       "    </tr>\n",
       "    <tr>\n",
       "      <th>...</th>\n",
       "      <td>...</td>\n",
       "      <td>...</td>\n",
       "    </tr>\n",
       "    <tr>\n",
       "      <th>216</th>\n",
       "      <td>2025-01</td>\n",
       "      <td>14.121816</td>\n",
       "    </tr>\n",
       "    <tr>\n",
       "      <th>217</th>\n",
       "      <td>2025-02</td>\n",
       "      <td>13.820212</td>\n",
       "    </tr>\n",
       "    <tr>\n",
       "      <th>218</th>\n",
       "      <td>2025-03</td>\n",
       "      <td>13.902885</td>\n",
       "    </tr>\n",
       "    <tr>\n",
       "      <th>219</th>\n",
       "      <td>2025-04</td>\n",
       "      <td>14.183055</td>\n",
       "    </tr>\n",
       "    <tr>\n",
       "      <th>220</th>\n",
       "      <td>2025-05</td>\n",
       "      <td>13.517076</td>\n",
       "    </tr>\n",
       "  </tbody>\n",
       "</table>\n",
       "<p>221 rows × 2 columns</p>\n",
       "</div>"
      ],
      "text/plain": [
       "    year_month      price\n",
       "0      2007-01   9.198165\n",
       "1      2007-02   9.286962\n",
       "2      2007-03   9.051190\n",
       "3      2007-04   9.273183\n",
       "4      2007-05   9.060988\n",
       "..         ...        ...\n",
       "216    2025-01  14.121816\n",
       "217    2025-02  13.820212\n",
       "218    2025-03  13.902885\n",
       "219    2025-04  14.183055\n",
       "220    2025-05  13.517076\n",
       "\n",
       "[221 rows x 2 columns]"
      ]
     },
     "execution_count": 7,
     "metadata": {},
     "output_type": "execute_result"
    }
   ],
   "source": [
    "df"
   ]
  },
  {
   "cell_type": "code",
   "execution_count": null,
   "id": "d14b1abd",
   "metadata": {},
   "outputs": [],
   "source": []
  }
 ],
 "metadata": {
  "kernelspec": {
   "display_name": "base",
   "language": "python",
   "name": "python3"
  },
  "language_info": {
   "codemirror_mode": {
    "name": "ipython",
    "version": 3
   },
   "file_extension": ".py",
   "mimetype": "text/x-python",
   "name": "python",
   "nbconvert_exporter": "python",
   "pygments_lexer": "ipython3",
   "version": "3.12.7"
  }
 },
 "nbformat": 4,
 "nbformat_minor": 5
}
