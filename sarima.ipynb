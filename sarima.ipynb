{
 "cells": [
  {
   "cell_type": "code",
   "execution_count": 2,
   "id": "85f81da3",
   "metadata": {},
   "outputs": [],
   "source": [
    "import pandas as pd\n",
    "import numpy as np\n",
    "import matplotlib.pyplot as plt\n",
    "from statsmodels.tsa.statespace.sarimax import SARIMAX\n",
    "from statsmodels.tsa.stattools import adfuller, acf, pacf\n",
    "from pmdarima import auto_arima\n",
    "from utils import *\n"
   ]
  },
  {
   "cell_type": "code",
   "execution_count": 4,
   "id": "bd9d4eeb",
   "metadata": {},
   "outputs": [],
   "source": [
    "df = pd.read_csv(\"bigqueryDatabases/prices.csv\")\n",
    "df = filtrar_ub(df)"
   ]
  },
  {
   "cell_type": "code",
   "execution_count": 5,
   "id": "4e64504e",
   "metadata": {},
   "outputs": [
    {
     "data": {
      "text/plain": [
       "year_month\n",
       "2007-01-01     9.198165\n",
       "2007-02-01     9.286962\n",
       "2007-03-01     9.051190\n",
       "2007-04-01     9.273183\n",
       "2007-05-01     9.060988\n",
       "                ...    \n",
       "2025-01-01    14.121816\n",
       "2025-02-01    13.820212\n",
       "2025-03-01    13.902885\n",
       "2025-04-01    14.183055\n",
       "2025-05-01    13.517076\n",
       "Name: price, Length: 221, dtype: float64"
      ]
     },
     "execution_count": 5,
     "metadata": {},
     "output_type": "execute_result"
    }
   ],
   "source": [
    "df"
   ]
  },
  {
   "cell_type": "code",
   "execution_count": null,
   "id": "efcbbd7a",
   "metadata": {},
   "outputs": [],
   "source": []
  }
 ],
 "metadata": {
  "kernelspec": {
   "display_name": "base",
   "language": "python",
   "name": "python3"
  },
  "language_info": {
   "codemirror_mode": {
    "name": "ipython",
    "version": 3
   },
   "file_extension": ".py",
   "mimetype": "text/x-python",
   "name": "python",
   "nbconvert_exporter": "python",
   "pygments_lexer": "ipython3",
   "version": "3.12.7"
  }
 },
 "nbformat": 4,
 "nbformat_minor": 5
}
